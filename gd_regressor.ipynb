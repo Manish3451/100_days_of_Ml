{
  "nbformat": 4,
  "nbformat_minor": 0,
  "metadata": {
    "colab": {
      "provenance": [],
      "authorship_tag": "ABX9TyP1Zd6O9GIgtYfnLBB0syD5",
      "include_colab_link": true
    },
    "kernelspec": {
      "name": "python3",
      "display_name": "Python 3"
    },
    "language_info": {
      "name": "python"
    }
  },
  "cells": [
    {
      "cell_type": "markdown",
      "metadata": {
        "id": "view-in-github",
        "colab_type": "text"
      },
      "source": [
        "<a href=\"https://colab.research.google.com/github/Manish3451/100_days_of_Ml/blob/main/gd_regressor.ipynb\" target=\"_parent\"><img src=\"https://colab.research.google.com/assets/colab-badge.svg\" alt=\"Open In Colab\"/></a>"
      ]
    },
    {
      "cell_type": "code",
      "execution_count": 1,
      "metadata": {
        "id": "Mv4OU7_6-8OS"
      },
      "outputs": [],
      "source": [
        "from sklearn.datasets import load_diabetes\n",
        "\n",
        "import numpy as np\n",
        "from sklearn.linear_model import LinearRegression\n",
        "from sklearn.metrics import r2_score\n",
        "from sklearn.model_selection import train_test_split\n",
        "import time"
      ]
    },
    {
      "cell_type": "code",
      "source": [
        "class gd_regerssor:\n",
        "\n",
        "  def __init__(self,learning_rate = 0.1,epoch = 100):\n",
        "\n",
        "    self.coef = None\n",
        "    self.lr =  None\n",
        "    self.epoch =  None\n",
        "    self.intercept = None\n",
        "\n",
        "\n",
        "  def fit (self,X_train,y_train):\n",
        "    self.intercept = 0\n",
        "    self.coef = np.ones(X_train.shape[1])\n",
        "\n",
        "\n",
        "    for i in range(self.epochs):\n",
        "\n",
        "      y_hat = np.dot(X_train,self.coef) + self.intercept\n",
        "\n",
        "      intercept_der = -2 * np.mean(y_train-y_hat)\n",
        "\n",
        "      self.intercept_ = self.intercept - (self.lr * intercept_der)\n",
        "\n",
        "      coef_der = -2*np.dot((y_train-y_hat),X_train)/X_train.shape[0]\n",
        "\n",
        "      self.coef = self.coef - (self.lr * coef_der)\n",
        "\n",
        "    print(self.intercept,self.coef)\n",
        "\n",
        "\n",
        "\n",
        "\n",
        "\n",
        "\n",
        "\n",
        "\n",
        "\n",
        "\n",
        "\n",
        "\n",
        "    pass\n",
        "\n",
        "\n",
        "  def predict (self,):\n",
        "    pass"
      ],
      "metadata": {
        "id": "iCDXK3WlAvCa"
      },
      "execution_count": null,
      "outputs": []
    }
  ]
}